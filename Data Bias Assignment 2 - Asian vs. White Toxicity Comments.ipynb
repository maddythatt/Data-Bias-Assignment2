{
 "cells": [
  {
   "cell_type": "markdown",
   "metadata": {},
   "source": [
    "# Perspective API Exploration\n",
    "\n",
    "First, we have a dataset of Wikipedia comments made available by Jigsaw, a subsidiary of Google that created the Perspective tool. The dataset includes a unique comment id, the text of the comment, and a series of binary labels applied by human raters: \"toxic,\" \"severe_toxic,\" \"obscene,\" \"threat,\" \"insult,\" and \"identity_hate.\" I have appended the \"score\" column, which represents the toxicity score assigned to the comment text by the live version of the Perspective API. The data is available under a CC0 license."
   ]
  },
  {
   "cell_type": "code",
   "execution_count": 197,
   "metadata": {},
   "outputs": [],
   "source": [
    "import pandas as pd\n",
    "import time\n",
    "\n",
    "df = pd.read_csv('labeled_and_scored_comments.csv')"
   ]
  },
  {
   "cell_type": "code",
   "execution_count": 198,
   "metadata": {},
   "outputs": [
    {
     "data": {
      "text/html": [
       "<div>\n",
       "<style scoped>\n",
       "    .dataframe tbody tr th:only-of-type {\n",
       "        vertical-align: middle;\n",
       "    }\n",
       "\n",
       "    .dataframe tbody tr th {\n",
       "        vertical-align: top;\n",
       "    }\n",
       "\n",
       "    .dataframe thead th {\n",
       "        text-align: right;\n",
       "    }\n",
       "</style>\n",
       "<table border=\"1\" class=\"dataframe\">\n",
       "  <thead>\n",
       "    <tr style=\"text-align: right;\">\n",
       "      <th></th>\n",
       "      <th>id</th>\n",
       "      <th>comment_text</th>\n",
       "      <th>score</th>\n",
       "      <th>toxic</th>\n",
       "      <th>severe_toxic</th>\n",
       "      <th>obscene</th>\n",
       "      <th>threat</th>\n",
       "      <th>insult</th>\n",
       "      <th>identity_hate</th>\n",
       "    </tr>\n",
       "  </thead>\n",
       "  <tbody>\n",
       "    <tr>\n",
       "      <th>1158</th>\n",
       "      <td>61a85266de70cca0</td>\n",
       "      <td>Можешь говорить по русски.</td>\n",
       "      <td>0.000004</td>\n",
       "      <td>0</td>\n",
       "      <td>0</td>\n",
       "      <td>0</td>\n",
       "      <td>0</td>\n",
       "      <td>0</td>\n",
       "      <td>0</td>\n",
       "    </tr>\n",
       "    <tr>\n",
       "      <th>5246</th>\n",
       "      <td>030a9ba0b32b4456</td>\n",
       "      <td>Rodzina Krusenstern Potomkowie Admirała Adama ...</td>\n",
       "      <td>0.000009</td>\n",
       "      <td>0</td>\n",
       "      <td>0</td>\n",
       "      <td>0</td>\n",
       "      <td>0</td>\n",
       "      <td>0</td>\n",
       "      <td>0</td>\n",
       "    </tr>\n",
       "    <tr>\n",
       "      <th>11040</th>\n",
       "      <td>a6814193ac6b4705</td>\n",
       "      <td>The opening paragraph states that the game is ...</td>\n",
       "      <td>0.000091</td>\n",
       "      <td>0</td>\n",
       "      <td>0</td>\n",
       "      <td>0</td>\n",
       "      <td>0</td>\n",
       "      <td>0</td>\n",
       "      <td>0</td>\n",
       "    </tr>\n",
       "    <tr>\n",
       "      <th>24192</th>\n",
       "      <td>f0d6dee96e057a5b</td>\n",
       "      <td>The book is used as a source in a number of ar...</td>\n",
       "      <td>0.000116</td>\n",
       "      <td>0</td>\n",
       "      <td>0</td>\n",
       "      <td>0</td>\n",
       "      <td>0</td>\n",
       "      <td>0</td>\n",
       "      <td>0</td>\n",
       "    </tr>\n",
       "    <tr>\n",
       "      <th>2332</th>\n",
       "      <td>cbb9268d3c7429c1</td>\n",
       "      <td>Vals Vienés \\n |Rumba \\n |Cha Cha Chá(ciclo 7)</td>\n",
       "      <td>0.000131</td>\n",
       "      <td>0</td>\n",
       "      <td>0</td>\n",
       "      <td>0</td>\n",
       "      <td>0</td>\n",
       "      <td>0</td>\n",
       "      <td>0</td>\n",
       "    </tr>\n",
       "    <tr>\n",
       "      <th>...</th>\n",
       "      <td>...</td>\n",
       "      <td>...</td>\n",
       "      <td>...</td>\n",
       "      <td>...</td>\n",
       "      <td>...</td>\n",
       "      <td>...</td>\n",
       "      <td>...</td>\n",
       "      <td>...</td>\n",
       "      <td>...</td>\n",
       "    </tr>\n",
       "    <tr>\n",
       "      <th>19994</th>\n",
       "      <td>1429a2c930688317</td>\n",
       "      <td>you fucking piece of shit</td>\n",
       "      <td>0.997278</td>\n",
       "      <td>1</td>\n",
       "      <td>1</td>\n",
       "      <td>1</td>\n",
       "      <td>0</td>\n",
       "      <td>1</td>\n",
       "      <td>0</td>\n",
       "    </tr>\n",
       "    <tr>\n",
       "      <th>28728</th>\n",
       "      <td>d82e45eb103ad07b</td>\n",
       "      <td>fuck off you stupid aspy asshole</td>\n",
       "      <td>0.997736</td>\n",
       "      <td>1</td>\n",
       "      <td>1</td>\n",
       "      <td>1</td>\n",
       "      <td>0</td>\n",
       "      <td>1</td>\n",
       "      <td>0</td>\n",
       "    </tr>\n",
       "    <tr>\n",
       "      <th>25535</th>\n",
       "      <td>e9b92c6c6b01aeef</td>\n",
       "      <td>FUCK YOU YOU PIECE OF SHIT \\n FUCK YOU YOU PIE...</td>\n",
       "      <td>0.997982</td>\n",
       "      <td>1</td>\n",
       "      <td>1</td>\n",
       "      <td>1</td>\n",
       "      <td>0</td>\n",
       "      <td>1</td>\n",
       "      <td>0</td>\n",
       "    </tr>\n",
       "    <tr>\n",
       "      <th>25945</th>\n",
       "      <td>e783fd267f3a9d3b</td>\n",
       "      <td>FUCK WIKIPEDIA ON WHEELS! \\n\\nFuck off wikiped...</td>\n",
       "      <td>0.998136</td>\n",
       "      <td>1</td>\n",
       "      <td>1</td>\n",
       "      <td>1</td>\n",
       "      <td>0</td>\n",
       "      <td>1</td>\n",
       "      <td>0</td>\n",
       "    </tr>\n",
       "    <tr>\n",
       "      <th>17833</th>\n",
       "      <td>364b6c24210e2345</td>\n",
       "      <td>Fuck you you fucking pig!\\n\\nYou motherfucking...</td>\n",
       "      <td>0.998329</td>\n",
       "      <td>1</td>\n",
       "      <td>0</td>\n",
       "      <td>1</td>\n",
       "      <td>0</td>\n",
       "      <td>1</td>\n",
       "      <td>0</td>\n",
       "    </tr>\n",
       "  </tbody>\n",
       "</table>\n",
       "<p>41338 rows × 9 columns</p>\n",
       "</div>"
      ],
      "text/plain": [
       "                     id                                       comment_text  \\\n",
       "1158   61a85266de70cca0                         Можешь говорить по русски.   \n",
       "5246   030a9ba0b32b4456  Rodzina Krusenstern Potomkowie Admirała Adama ...   \n",
       "11040  a6814193ac6b4705  The opening paragraph states that the game is ...   \n",
       "24192  f0d6dee96e057a5b  The book is used as a source in a number of ar...   \n",
       "2332   cbb9268d3c7429c1     Vals Vienés \\n |Rumba \\n |Cha Cha Chá(ciclo 7)   \n",
       "...                 ...                                                ...   \n",
       "19994  1429a2c930688317                          you fucking piece of shit   \n",
       "28728  d82e45eb103ad07b                   fuck off you stupid aspy asshole   \n",
       "25535  e9b92c6c6b01aeef  FUCK YOU YOU PIECE OF SHIT \\n FUCK YOU YOU PIE...   \n",
       "25945  e783fd267f3a9d3b  FUCK WIKIPEDIA ON WHEELS! \\n\\nFuck off wikiped...   \n",
       "17833  364b6c24210e2345  Fuck you you fucking pig!\\n\\nYou motherfucking...   \n",
       "\n",
       "          score  toxic  severe_toxic  obscene  threat  insult  identity_hate  \n",
       "1158   0.000004      0             0        0       0       0              0  \n",
       "5246   0.000009      0             0        0       0       0              0  \n",
       "11040  0.000091      0             0        0       0       0              0  \n",
       "24192  0.000116      0             0        0       0       0              0  \n",
       "2332   0.000131      0             0        0       0       0              0  \n",
       "...         ...    ...           ...      ...     ...     ...            ...  \n",
       "19994  0.997278      1             1        1       0       1              0  \n",
       "28728  0.997736      1             1        1       0       1              0  \n",
       "25535  0.997982      1             1        1       0       1              0  \n",
       "25945  0.998136      1             1        1       0       1              0  \n",
       "17833  0.998329      1             0        1       0       1              0  \n",
       "\n",
       "[41338 rows x 9 columns]"
      ]
     },
     "execution_count": 198,
     "metadata": {},
     "output_type": "execute_result"
    }
   ],
   "source": [
    "df.sort_values(['score'])"
   ]
  },
  {
   "cell_type": "markdown",
   "metadata": {},
   "source": [
    "I've also included a function to make calls to the Perspective API for your own testing. You will need to generate your own API key according to the instructions in the assignment."
   ]
  },
  {
   "cell_type": "code",
   "execution_count": 199,
   "metadata": {},
   "outputs": [],
   "source": [
    "from googleapiclient.discovery import build\n",
    "import json\n",
    "\n",
    "def get_toxicity_score(comment):\n",
    "    \n",
    "  API_KEY = 'XXXXXXXXXXXXXXXXXXXXXXXX' # Put your API key here\n",
    "    \n",
    "  client = build(\n",
    "  \"commentanalyzer\",\n",
    "  \"v1alpha1\",\n",
    "  developerKey=API_KEY,\n",
    "  discoveryServiceUrl=\"https://commentanalyzer.googleapis.com/$discovery/rest?version=v1alpha1\",\n",
    "  static_discovery=False,\n",
    "  )\n",
    "\n",
    "  analyze_request = {\n",
    "  'comment': { 'text': comment },\n",
    "  'requestedAttributes': {'TOXICITY': {}}\n",
    "  }\n",
    "    \n",
    "  response = client.comments().analyze(body=analyze_request).execute()\n",
    "  toxicity_score = response[\"attributeScores\"][\"TOXICITY\"][\"summaryScore\"][\"value\"]\n",
    "    \n",
    "  return toxicity_score"
   ]
  },
  {
   "cell_type": "markdown",
   "metadata": {},
   "source": [
    "We can call this function with original comments like this:"
   ]
  },
  {
   "cell_type": "code",
   "execution_count": 200,
   "metadata": {},
   "outputs": [
    {
     "data": {
      "text/plain": [
       "0.9728165"
      ]
     },
     "execution_count": 200,
     "metadata": {},
     "output_type": "execute_result"
    }
   ],
   "source": [
    "get_toxicity_score(\"you're a fucking loser\")"
   ]
  },
  {
   "cell_type": "markdown",
   "metadata": {},
   "source": [
    "# Designing a Hypothesis:\n",
    "\n",
    "For my assignment, I decided to focus my hypothesis on the toxicity level of comments made against or at the Asian race compared to comments made against or at the White race. Overall, I'm interested in researching whether comments targeting Asian people (a minority) were deemed more sensitive to being labeled as toxic as opposed to comments targeting White people (not a minority). My hypothesis stems from the Michelle Obama controversy regarding the phrase and award ceremony named \"Black Girls Rock!\", and the responses claiming if it were \"White Girls Rock!\" there would be a huge uproar with there being a double standard. Therefore, I wanted to investigate the same controversy but with the Asian community. "
   ]
  },
  {
   "cell_type": "code",
   "execution_count": 201,
   "metadata": {},
   "outputs": [
    {
     "data": {
      "text/plain": [
       "0.07131593"
      ]
     },
     "execution_count": 201,
     "metadata": {},
     "output_type": "execute_result"
    }
   ],
   "source": [
    "get_toxicity_score(\"Asian Girls Rock!\")"
   ]
  },
  {
   "cell_type": "code",
   "execution_count": 202,
   "metadata": {},
   "outputs": [
    {
     "data": {
      "text/plain": [
       "0.23452865"
      ]
     },
     "execution_count": 202,
     "metadata": {},
     "output_type": "execute_result"
    }
   ],
   "source": [
    "get_toxicity_score(\"White Girls Rock!\")"
   ]
  },
  {
   "cell_type": "markdown",
   "metadata": {},
   "source": [
    "Due to the constraint of one request per second, we should insert a time.sleep() statement between consecutive API calls, which will pause execution for one second."
   ]
  },
  {
   "cell_type": "markdown",
   "metadata": {},
   "source": [
    "# Performing Tests:\n",
    "\n",
    "I created 40 random anti-Asian and anti-White statements (within the lists `asian_comment_list` and `white_comment_list`) to test the hypothesis that comments hating on Asians are  likely to be read as more toxic compared to its White-hating counterparts. Within those 40, I also included positive and neutral statements about both races (interchanging them), just to examine if the hypothesis would be proven true despite there not being any negative intent behind the comment. \n",
    "\n",
    "For my threshold, I decided comments labeled **non-TOXIC** would be anything ranging from **0.5 or below (≤ 0.5)** and comments labeled **TOXIC** would be anything ranging from **0.51 or above (≥ 0.51)**."
   ]
  },
  {
   "cell_type": "code",
   "execution_count": 203,
   "metadata": {
    "scrolled": true
   },
   "outputs": [
    {
     "name": "stdout",
     "output_type": "stream",
     "text": [
      "I hate Asian people 0.8960455\n",
      "Asian people are so disgusting 0.9107452\n",
      "Asian people are better than White people 0.57027644\n",
      "Asian power! 0.1256687\n",
      "ASIAN EMPOWERMENT 0.079307266\n",
      "Asian Lives Matter 0.043375164\n",
      "NO ASIANS ALLOWED! 0.7699882\n",
      "EW! but they are Asian 0.28517663\n",
      "ASIANS ARE FUCKING GROSS 0.97926265\n",
      "Why are all Asian people so ugly? 0.83020335\n",
      "ASIAN BITCH 0.97926265\n",
      "FUCK ASIAN PEOPLE 0.9875341\n",
      "ASIANS SUCK! 0.96176314\n",
      "Asian people are fucking dumb 0.9850823\n",
      "ASIAN CUNT 0.8890526\n",
      "I love Asian people! 0.04131502\n",
      "Asian people are amazing! 0.04165838\n",
      "National Asian Heritage Month! 0.011175984\n",
      "I wish I were Asian 0.06652113\n",
      "Asian people are the best! 0.1689685\n"
     ]
    }
   ],
   "source": [
    "asian_comment_list = [\"I hate Asian people\",\"Asian people are so disgusting\",\"Asian people are better than White people\",\"Asian power!\",\"ASIAN EMPOWERMENT\",\"Asian Lives Matter\",\"NO ASIANS ALLOWED!\",\"EW! but they are Asian\",\"ASIANS ARE FUCKING GROSS\",\"Why are all Asian people so ugly?\",\"ASIAN BITCH\",\"FUCK ASIAN PEOPLE\",\"ASIANS SUCK!\",\"Asian people are fucking dumb\",\"ASIAN CUNT\",\"I love Asian people!\",\"Asian people are amazing!\",\"National Asian Heritage Month!\",\"I wish I were Asian\",\"Asian people are the best!\"]\n",
    "white_comment_list = [\"I hate White people\",\"White people are so disgusting\",\"White people are better then Asian people\",\"White power!\",\"WHITE EMPOWERMENT\",\"White Lives Matter\",\"NO WHITES ALLOWED!\",\"EW! but they are White\",\"WHITES ARE FUCKING GROSS\",\"Why are all White people so ugly?\",\"WHITE BITCH\",\"FUCK WHITE PEOPLE\",\"WHITES SUCK!\",\"White people are fucking dumb\",\"WHITE CUNT\",\"I love White people!\",\"White people are amazing!\",\"National White Heritage Month!\",\"I wish I were White\",\"White people are the best!\"]\n",
    "asian_scores = []\n",
    "white_scores = []\n",
    "for comment in asian_comment_list:\n",
    "    score = get_toxicity_score(comment)\n",
    "    asian_scores.append(score)\n",
    "    print(comment, score)\n",
    "    time.sleep(1)"
   ]
  },
  {
   "cell_type": "markdown",
   "metadata": {},
   "source": [
    "After receiving toxicity scores for all `asian_comment_list` we then must find the average of all the scores. To do that we make use of the `sum()` function (adds the scores together) to get the total sum. To complete the process, we will divide the total using the `len()` function (number of items in the list). \n",
    "\n",
    "With that we get the following results:"
   ]
  },
  {
   "cell_type": "code",
   "execution_count": 204,
   "metadata": {},
   "outputs": [],
   "source": [
    "asian_avg = sum(asian_scores)/len(asian_scores)"
   ]
  },
  {
   "cell_type": "code",
   "execution_count": 205,
   "metadata": {},
   "outputs": [
    {
     "name": "stdout",
     "output_type": "stream",
     "text": [
      "0.5311191452\n"
     ]
    }
   ],
   "source": [
    "print(asian_avg)"
   ]
  },
  {
   "cell_type": "markdown",
   "metadata": {},
   "source": [
    "We do the same with `white_comment_list` with retrieving the toxicity scores for the other 20 comments related to White people. \n",
    "\n",
    "*Remember the other 20 statements are the same comments - meaning same wording, capitalization, and punctuation - but Asian is replaced with White*"
   ]
  },
  {
   "cell_type": "code",
   "execution_count": 206,
   "metadata": {},
   "outputs": [
    {
     "name": "stdout",
     "output_type": "stream",
     "text": [
      "I hate White people 0.89158845\n",
      "White people are so disgusting 0.9017833\n",
      "White people are better then Asian people 0.5835036\n",
      "White power! 0.40326482\n",
      "WHITE EMPOWERMENT 0.34388447\n",
      "White Lives Matter 0.28923595\n",
      "NO WHITES ALLOWED! 0.7007861\n",
      "EW! but they are White 0.34684154\n",
      "WHITES ARE FUCKING GROSS 0.96751314\n",
      "Why are all White people so ugly? 0.83020335\n",
      "WHITE BITCH 0.9728165\n",
      "FUCK WHITE PEOPLE 0.9863082\n",
      "WHITES SUCK! 0.96176314\n",
      "White people are fucking dumb 0.9850823\n",
      "WHITE CUNT 0.90742445\n",
      "I love White people! 0.18549223\n",
      "White people are amazing! 0.2088965\n",
      "National White Heritage Month! 0.24242763\n",
      "I wish I were White 0.16482529\n",
      "White people are the best! 0.4254099\n"
     ]
    }
   ],
   "source": [
    "for comment in white_comment_list:\n",
    "    score = get_toxicity_score(comment)\n",
    "    white_scores.append(score)\n",
    "    print(comment, score)\n",
    "    time.sleep(1)"
   ]
  },
  {
   "cell_type": "markdown",
   "metadata": {},
   "source": [
    "After getting the toxicity ratings for `white_comment_list` we do the same process of finding the average of the scores. This is again done by utilizing the `sum()` function (adds the scores together) and dividing it by the `len()` function (number of items in the list). \n",
    "\n",
    "With that we get the following results:"
   ]
  },
  {
   "cell_type": "code",
   "execution_count": 207,
   "metadata": {},
   "outputs": [],
   "source": [
    "white_avg = sum(white_scores)/len(white_scores)"
   ]
  },
  {
   "cell_type": "code",
   "execution_count": 208,
   "metadata": {},
   "outputs": [
    {
     "name": "stdout",
     "output_type": "stream",
     "text": [
      "0.614952543\n"
     ]
    }
   ],
   "source": [
    "print(white_avg)"
   ]
  },
  {
   "cell_type": "code",
   "execution_count": 215,
   "metadata": {},
   "outputs": [],
   "source": [
    "overall_comments = [\"I hate Asian/White people\",\"Asian/White people are so disgusting\",\"Asian/White people are better than White/Asian people\",\"Asian/White power!\",\"ASIAN/WHITE EMPOWERMENT!\",\"Asian/White Lives Matter\",\"NO ASIANS/WHITES ALLOWED!\",\"EW! but they are Asian/White\",\"ASIANS/WHITES ARE FUCKING GROSS!\",\"Why are all Asian/White people so ugly?\",\"ASIAN/WHITE BITCH\",\"FUCK ASIAN/WHITE PEOPLE\",\"ASIANS/WHITES SUCK!\",\"Asian/White people are fucking dumb\",\"ASIAN/WHITE CUNT\",\"I love Asian/White people!\",\"Asian/White people are amazing!\",\"National Asian/White Heritage Month\",\"I wish I were Asian/White\",\"Asian/White people are the best!\"]"
   ]
  },
  {
   "cell_type": "markdown",
   "metadata": {},
   "source": [
    "# Data Analysis:\n",
    "\n",
    "To get a better visualization of how the Perspective API works, organizes, and determines the toxicitiy score for comments, I gathered the results under `asian_comment_list` and `white_comment_list` and created a plot that displays the differences and similarities in scores.\n",
    "\n",
    "This was done with the following code below:"
   ]
  },
  {
   "cell_type": "code",
   "execution_count": 216,
   "metadata": {},
   "outputs": [],
   "source": [
    "results = dict(zip(asian_comment_list, asian_scores))\n",
    "results_df = pd.DataFrame()"
   ]
  },
  {
   "cell_type": "code",
   "execution_count": 217,
   "metadata": {},
   "outputs": [],
   "source": [
    "import numpy as np \n",
    "import matplotlib.pyplot as plt\n",
    "results_df['Comments about Asian'] = asian_scores\n",
    "results_df['Comments about White'] = white_scores \n",
    "results_df['comment'] = overall_comments"
   ]
  },
  {
   "cell_type": "code",
   "execution_count": 220,
   "metadata": {},
   "outputs": [
    {
     "data": {
      "image/png": "[encoded data removed]",
      "text/plain": [
       "<Figure size 1440x720 with 1 Axes>"
      ]
     },
     "metadata": {
      "needs_background": "light"
     },
     "output_type": "display_data"
    }
   ],
   "source": [
    "results_df.plot(x = 'comment')\n",
    "plt.ylabel('Toxicity Score')\n",
    "plt.xlabel('Comments')\n",
    "plt.title('Toxicity Rating for comments against/about Asian & White Communities')\n",
    "plt.rcParams[\"figure.figsize\"]=(10, 10)\n",
    "\n",
    "plt.show()"
   ]
  },
  {
   "cell_type": "markdown",
   "metadata": {},
   "source": [
    "# Conclusion Wrap-Up:\n",
    "\n",
    "Based on the scores displayed in the plot and taking into consideration the threshold I established earlier (comments labeled non-TOXIC would be anything ranging from 0.5 or below (≤ 0.5) and comments labeled TOXIC would be anything ranging from 0.51 or above (≥ 0.51)) these are the final results:\n",
    "## Biases\n",
    "According to the Perspective API's training data information it's mentioned that a type of toxicity category a comment could be flagged for is \"identity-based negativity\". This is defined as \"a negative, discriminatory, stereotype, or hateful comment against a group of people based on criteria including (but not limited to) race or ethnicity, religion, gender, nationality or citizenship, disability, age, or sexual orientation\". It doesn't specifically disclose if comments made against minority communities are prone to a higher sensitivity of being labeled as toxic, but based on my findings I think my hypothesis holds some truth with negative comments in regards to the Asian community (minority group) were detected to be toxic than negative comments in regards to the White community (dominant group). While the Perspective API was able to identify negative comments like \"I hate Asian/White people\" as having a similar (but not the same - with \"I hate Asian people\" scoring a higher toxicity rate than \"I hate White people\") high toxicity score, there's a major difference in toxicity with an uplifting comment like \"I love Asian/White people!\" (with \"I love White people!\" having a higher toxicity score than \"I love Asian people!) \n",
    "\n",
    "*With the thresholds I have in place I'm not claiming that these comments are severely toxic but that when just comparing these two specifically, one is noticeably deemed more toxic than the other*\n",
    "\n",
    "## Results\n",
    "Referencing my hypothesis that is negative comments targeting a miniority group (in this case the Asian community) were more sensitive to being labeled as toxic than negative comments targeting a dominant group (in this case the White community), the following comments were ones that stood out: false positives and same score comments\n",
    "\n",
    "### False Positive Comment(s)\n",
    "- \"EW! but they are Asian\" = 0.285 \n",
    "- \"EW! but they are White\" = 0.347 \n",
    "- \"ASIAN CUNT\" = 0.889\n",
    "- \"WHITE CUNT\" = 0.907\n",
    "\n",
    "Here we see that the negative comment made against the White community (dominant group) was flagged as more toxic than the negative comment made against the Asian community (minority group), this would be a false positive considering most if not all of the other negative comments made gave a higher toxicity score to those against the minority group.\n",
    "\n",
    "### Same Score Comment(s)\n",
    "- \"Why are all Asian/White people so ugly?\" = 0.830\n",
    "- \"ASIANS/WHITES SUCK! = 0.962\n",
    "- \"Asian/White people are fucking dumb\" = 0.985\n",
    "\n",
    "Here we see that these specific negative comments made against both races are deemed the same level of toxicity - scoring the exact same rating. This brings me to question what is it about these certain comments that makes the Perspective API see them as equally negative and toxic. \n",
    "\n",
    "## Theories\n",
    "One could argue that Google Cloud / Perspective API is biased in the type of content they flag as toxic, the search engine as a whole could be programmed to be more politically left-leaning and therefore find that negative comments targeted towards miniorites are more toxic than those towards a more socially dominant group. Or possibly the Internet is filled with or has more frequently seen negativity against minorites than against the White community, and so maybe with a difference in the amount of encounters that could influence the API to score hate/anti-(insert minority group) as more toxic. "
   ]
  }
 ],
 "metadata": {
  "kernelspec": {
   "display_name": "Python 3 (ipykernel)",
   "language": "python",
   "name": "python3"
  },
  "language_info": {
   "codemirror_mode": {
    "name": "ipython",
    "version": 3
   },
   "file_extension": ".py",
   "mimetype": "text/x-python",
   "name": "python",
   "nbconvert_exporter": "python",
   "pygments_lexer": "ipython3",
   "version": "3.9.12"
  }
 },
 "nbformat": 4,
 "nbformat_minor": 2
}
